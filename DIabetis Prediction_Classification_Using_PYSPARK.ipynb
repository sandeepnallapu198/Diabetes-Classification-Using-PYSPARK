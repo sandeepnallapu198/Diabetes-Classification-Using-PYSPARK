{
 "cells": [
  {
   "cell_type": "code",
   "execution_count": 1,
   "id": "88d64cd5",
   "metadata": {},
   "outputs": [
    {
     "data": {
      "text/html": [
       "\n",
       "            <div>\n",
       "                <p><b>SparkSession - in-memory</b></p>\n",
       "                \n",
       "        <div>\n",
       "            <p><b>SparkContext</b></p>\n",
       "\n",
       "            <p><a href=\"http://DESKTOP-CLEV1R9:4041\">Spark UI</a></p>\n",
       "\n",
       "            <dl>\n",
       "              <dt>Version</dt>\n",
       "                <dd><code>v3.3.1</code></dd>\n",
       "              <dt>Master</dt>\n",
       "                <dd><code>local[*]</code></dd>\n",
       "              <dt>AppName</dt>\n",
       "                <dd><code>salary</code></dd>\n",
       "            </dl>\n",
       "        </div>\n",
       "        \n",
       "            </div>\n",
       "        "
      ],
      "text/plain": [
       "<pyspark.sql.session.SparkSession at 0x27937547430>"
      ]
     },
     "execution_count": 1,
     "metadata": {},
     "output_type": "execute_result"
    }
   ],
   "source": [
    "from pyspark.sql import SparkSession\n",
    "spark = SparkSession.builder.appName('salary').getOrCreate()\n",
    "spark"
   ]
  },
  {
   "cell_type": "code",
   "execution_count": 2,
   "id": "09315b01",
   "metadata": {},
   "outputs": [
    {
     "name": "stdout",
     "output_type": "stream",
     "text": [
      "+-----------+-------+-------------+-------------+-------+----+------------------------+---+-------+\n",
      "|Pregnancies|Glucose|BloodPressure|SkinThickness|Insulin| BMI|DiabetesPedigreeFunction|Age|Outcome|\n",
      "+-----------+-------+-------------+-------------+-------+----+------------------------+---+-------+\n",
      "|          6|    148|           72|           35|      0|33.6|                   0.627| 50|      1|\n",
      "|          1|     85|           66|           29|      0|26.6|                   0.351| 31|      0|\n",
      "|          8|    183|           64|            0|      0|23.3|                   0.672| 32|      1|\n",
      "|          1|     89|           66|           23|     94|28.1|                   0.167| 21|      0|\n",
      "|          0|    137|           40|           35|    168|43.1|                   2.288| 33|      1|\n",
      "+-----------+-------+-------------+-------------+-------+----+------------------------+---+-------+\n",
      "only showing top 5 rows\n",
      "\n"
     ]
    }
   ],
   "source": [
    "data = spark.read.csv(\"C:\\\\Users\\\\HAI\\\\Downloads\\\\diabetes (1).csv\",header = True,inferSchema = True)\n",
    "data.show(5)"
   ]
  },
  {
   "cell_type": "code",
   "execution_count": 3,
   "id": "acd6f174",
   "metadata": {},
   "outputs": [
    {
     "name": "stdout",
     "output_type": "stream",
     "text": [
      "+-----------+-------+-------------+-------------+-------+---+------------------------+---+-------+\n",
      "|Pregnancies|Glucose|BloodPressure|SkinThickness|Insulin|BMI|DiabetesPedigreeFunction|Age|Outcome|\n",
      "+-----------+-------+-------------+-------------+-------+---+------------------------+---+-------+\n",
      "|          0|      0|            0|            0|      0|  0|                       0|  0|      0|\n",
      "+-----------+-------+-------------+-------------+-------+---+------------------------+---+-------+\n",
      "\n"
     ]
    }
   ],
   "source": [
    "from pyspark.sql.functions import isnan,when,count,col\n",
    "data.select([count(when(col(c).isNull(),c)).alias(c) for c in data.columns]).show()\n"
   ]
  },
  {
   "cell_type": "code",
   "execution_count": 4,
   "id": "bf25e7dd",
   "metadata": {},
   "outputs": [
    {
     "name": "stdout",
     "output_type": "stream",
     "text": [
      "+-------+------------------+-----------------+------------------+------------------+------------------+------------------+------------------------+------------------+------------------+\n",
      "|summary|       Pregnancies|          Glucose|     BloodPressure|     SkinThickness|           Insulin|               BMI|DiabetesPedigreeFunction|               Age|           Outcome|\n",
      "+-------+------------------+-----------------+------------------+------------------+------------------+------------------+------------------------+------------------+------------------+\n",
      "|  count|               768|              768|               768|               768|               768|               768|                     768|               768|               768|\n",
      "|   mean|3.8450520833333335|     120.89453125|       69.10546875|20.536458333333332| 79.79947916666667|31.992578124999977|      0.4718763020833327|33.240885416666664|0.3489583333333333|\n",
      "| stddev|  3.36957806269887|31.97261819513622|19.355807170644777|15.952217567727642|115.24400235133803| 7.884160320375441|       0.331328595012775|11.760231540678689| 0.476951377242799|\n",
      "|    min|                 0|                0|                 0|                 0|                 0|               0.0|                   0.078|                21|                 0|\n",
      "|    max|                17|              199|               122|                99|               846|              67.1|                    2.42|                81|                 1|\n",
      "+-------+------------------+-----------------+------------------+------------------+------------------+------------------+------------------------+------------------+------------------+\n",
      "\n"
     ]
    }
   ],
   "source": [
    "data.describe().show()"
   ]
  },
  {
   "cell_type": "code",
   "execution_count": 5,
   "id": "6471ce38",
   "metadata": {},
   "outputs": [
    {
     "data": {
      "text/plain": [
       "['Pregnancies',\n",
       " 'Glucose',\n",
       " 'BloodPressure',\n",
       " 'SkinThickness',\n",
       " 'Insulin',\n",
       " 'BMI',\n",
       " 'DiabetesPedigreeFunction',\n",
       " 'Age',\n",
       " 'Outcome']"
      ]
     },
     "execution_count": 5,
     "metadata": {},
     "output_type": "execute_result"
    }
   ],
   "source": [
    "data.columns"
   ]
  },
  {
   "cell_type": "code",
   "execution_count": 6,
   "id": "90c8201c",
   "metadata": {},
   "outputs": [
    {
     "name": "stdout",
     "output_type": "stream",
     "text": [
      "+-----------+-------+-------------+-------------+-------+----+------------------------+---+-------+--------------------+\n",
      "|Pregnancies|Glucose|BloodPressure|SkinThickness|Insulin| BMI|DiabetesPedigreeFunction|Age|Outcome|Independent Features|\n",
      "+-----------+-------+-------------+-------------+-------+----+------------------------+---+-------+--------------------+\n",
      "|          6|    148|           72|           35|      0|33.6|                   0.627| 50|      1|[6.0,148.0,72.0,3...|\n",
      "|          1|     85|           66|           29|      0|26.6|                   0.351| 31|      0|[1.0,85.0,66.0,29...|\n",
      "|          8|    183|           64|            0|      0|23.3|                   0.672| 32|      1|[8.0,183.0,64.0,0...|\n",
      "|          1|     89|           66|           23|     94|28.1|                   0.167| 21|      0|[1.0,89.0,66.0,23...|\n",
      "|          0|    137|           40|           35|    168|43.1|                   2.288| 33|      1|[0.0,137.0,40.0,3...|\n",
      "|          5|    116|           74|            0|      0|25.6|                   0.201| 30|      0|[5.0,116.0,74.0,0...|\n",
      "|          3|     78|           50|           32|     88|31.0|                   0.248| 26|      1|[3.0,78.0,50.0,32...|\n",
      "|         10|    115|            0|            0|      0|35.3|                   0.134| 29|      0|[10.0,115.0,0.0,0...|\n",
      "|          2|    197|           70|           45|    543|30.5|                   0.158| 53|      1|[2.0,197.0,70.0,4...|\n",
      "|          8|    125|           96|            0|      0| 0.0|                   0.232| 54|      1|[8.0,125.0,96.0,0...|\n",
      "|          4|    110|           92|            0|      0|37.6|                   0.191| 30|      0|[4.0,110.0,92.0,0...|\n",
      "|         10|    168|           74|            0|      0|38.0|                   0.537| 34|      1|[10.0,168.0,74.0,...|\n",
      "|         10|    139|           80|            0|      0|27.1|                   1.441| 57|      0|[10.0,139.0,80.0,...|\n",
      "|          1|    189|           60|           23|    846|30.1|                   0.398| 59|      1|[1.0,189.0,60.0,2...|\n",
      "|          5|    166|           72|           19|    175|25.8|                   0.587| 51|      1|[5.0,166.0,72.0,1...|\n",
      "|          7|    100|            0|            0|      0|30.0|                   0.484| 32|      1|[7.0,100.0,0.0,0....|\n",
      "|          0|    118|           84|           47|    230|45.8|                   0.551| 31|      1|[0.0,118.0,84.0,4...|\n",
      "|          7|    107|           74|            0|      0|29.6|                   0.254| 31|      1|[7.0,107.0,74.0,0...|\n",
      "|          1|    103|           30|           38|     83|43.3|                   0.183| 33|      0|[1.0,103.0,30.0,3...|\n",
      "|          1|    115|           70|           30|     96|34.6|                   0.529| 32|      1|[1.0,115.0,70.0,3...|\n",
      "+-----------+-------+-------------+-------------+-------+----+------------------------+---+-------+--------------------+\n",
      "only showing top 20 rows\n",
      "\n"
     ]
    }
   ],
   "source": [
    "from pyspark.ml.feature import VectorAssembler\n",
    "assembler = VectorAssembler(inputCols=['Pregnancies',\n",
    " 'Glucose',\n",
    " 'BloodPressure',\n",
    " 'SkinThickness',\n",
    " 'Insulin',\n",
    " 'BMI',\n",
    " 'DiabetesPedigreeFunction',\n",
    " 'Age'],\n",
    "outputCol='Independent Features')\n",
    " \n",
    "output = assembler.transform(data)\n",
    "output.show()"
   ]
  },
  {
   "cell_type": "code",
   "execution_count": 7,
   "id": "d0e2bca8",
   "metadata": {},
   "outputs": [
    {
     "name": "stdout",
     "output_type": "stream",
     "text": [
      "+--------------------+-------+\n",
      "|Independent Features|Outcome|\n",
      "+--------------------+-------+\n",
      "|[6.0,148.0,72.0,3...|      1|\n",
      "|[1.0,85.0,66.0,29...|      0|\n",
      "|[8.0,183.0,64.0,0...|      1|\n",
      "|[1.0,89.0,66.0,23...|      0|\n",
      "|[0.0,137.0,40.0,3...|      1|\n",
      "|[5.0,116.0,74.0,0...|      0|\n",
      "|[3.0,78.0,50.0,32...|      1|\n",
      "|[10.0,115.0,0.0,0...|      0|\n",
      "|[2.0,197.0,70.0,4...|      1|\n",
      "|[8.0,125.0,96.0,0...|      1|\n",
      "|[4.0,110.0,92.0,0...|      0|\n",
      "|[10.0,168.0,74.0,...|      1|\n",
      "|[10.0,139.0,80.0,...|      0|\n",
      "|[1.0,189.0,60.0,2...|      1|\n",
      "|[5.0,166.0,72.0,1...|      1|\n",
      "|[7.0,100.0,0.0,0....|      1|\n",
      "|[0.0,118.0,84.0,4...|      1|\n",
      "|[7.0,107.0,74.0,0...|      1|\n",
      "|[1.0,103.0,30.0,3...|      0|\n",
      "|[1.0,115.0,70.0,3...|      1|\n",
      "+--------------------+-------+\n",
      "only showing top 20 rows\n",
      "\n"
     ]
    }
   ],
   "source": [
    "finilized_data = output.select('Independent Features','Outcome')\n",
    "finilized_data.show()"
   ]
  },
  {
   "cell_type": "code",
   "execution_count": 14,
   "id": "3bf5320c",
   "metadata": {},
   "outputs": [],
   "source": [
    "from pyspark.ml.classification import LogisticRegression\n",
    "train_data,test_data = finilized_data.randomSplit([0.75,0.25])\n",
    "LR = LogisticRegression(featuresCol = 'Independent Features',labelCol='Outcome')\n",
    "LR = LR.fit(train_data)"
   ]
  },
  {
   "cell_type": "code",
   "execution_count": 15,
   "id": "77cddc0a",
   "metadata": {},
   "outputs": [
    {
     "name": "stdout",
     "output_type": "stream",
     "text": [
      "+--------------------+-------+--------------------+--------------------+----------+\n",
      "|Independent Features|Outcome|       rawPrediction|         probability|prediction|\n",
      "+--------------------+-------+--------------------+--------------------+----------+\n",
      "|(8,[0,1,6,7],[2.0...|      0|[4.82299423487801...|[0.99202149903683...|       0.0|\n",
      "|(8,[0,1,6,7],[3.0...|      0|[4.41175443997774...|[0.98801159427908...|       0.0|\n",
      "|(8,[1,5,6,7],[131...|      1|[-0.4716591799569...|[0.38422361322083...|       1.0|\n",
      "|(8,[1,5,6,7],[141...|      1|[-0.7139239259861...|[0.32873237645375...|       1.0|\n",
      "|[0.0,91.0,68.0,32...|      0|[2.09790914672264...|[0.89069979277969...|       0.0|\n",
      "|[0.0,91.0,80.0,0....|      0|[2.29350638893305...|[0.90833781112550...|       0.0|\n",
      "|[0.0,93.0,60.0,25...|      0|[2.58555910560882...|[0.92992638570546...|       0.0|\n",
      "|[0.0,100.0,70.0,2...|      0|[2.22046586137962...|[0.90207235659027...|       0.0|\n",
      "|[0.0,100.0,88.0,6...|      0|[0.89860103675377...|[0.71066193042924...|       0.0|\n",
      "|[0.0,102.0,75.0,2...|      0|[4.59509731718894...|[0.98999977692137...|       0.0|\n",
      "|[0.0,105.0,68.0,2...|      0|[3.19917980365726...|[0.96080340009493...|       0.0|\n",
      "|[0.0,107.0,60.0,2...|      0|[2.65730374917354...|[0.93445972869261...|       0.0|\n",
      "|[0.0,117.0,66.0,3...|      0|[1.78201262666642...|[0.85594520665888...|       0.0|\n",
      "|[0.0,118.0,84.0,4...|      1|[0.73792493088907...|[0.67654192920228...|       0.0|\n",
      "|[0.0,120.0,74.0,1...|      0|[1.84850057517891...|[0.86395095720490...|       0.0|\n",
      "|[0.0,121.0,66.0,3...|      1|[1.55756349203085...|[0.82600345189639...|       0.0|\n",
      "|[0.0,123.0,88.0,3...|      0|[1.67529345824080...|[0.84228030112081...|       0.0|\n",
      "|[0.0,124.0,56.0,1...|      0|[2.04679077689023...|[0.88562294271990...|       0.0|\n",
      "|[0.0,125.0,68.0,0...|      0|[2.06812558330416...|[0.88776633538332...|       0.0|\n",
      "|[0.0,129.0,110.0,...|      1|[-0.7582976076254...|[0.31901598807776...|       1.0|\n",
      "+--------------------+-------+--------------------+--------------------+----------+\n",
      "only showing top 20 rows\n",
      "\n"
     ]
    }
   ],
   "source": [
    "pred_test= LR.transform(test_data)\n",
    "pred_test.show()\n"
   ]
  },
  {
   "cell_type": "code",
   "execution_count": 16,
   "id": "36934770",
   "metadata": {},
   "outputs": [
    {
     "name": "stdout",
     "output_type": "stream",
     "text": [
      "+-------+----------+\n",
      "|Outcome|prediction|\n",
      "+-------+----------+\n",
      "|      0|       0.0|\n",
      "|      0|       0.0|\n",
      "|      1|       1.0|\n",
      "|      1|       1.0|\n",
      "|      0|       0.0|\n",
      "|      0|       0.0|\n",
      "|      0|       0.0|\n",
      "|      0|       0.0|\n",
      "|      0|       0.0|\n",
      "|      0|       0.0|\n",
      "+-------+----------+\n",
      "only showing top 10 rows\n",
      "\n"
     ]
    }
   ],
   "source": [
    "pred_test.select('Outcome','prediction').show(10)"
   ]
  },
  {
   "cell_type": "code",
   "execution_count": 17,
   "id": "0f89973e",
   "metadata": {},
   "outputs": [],
   "source": [
    "lr_summary = LR.summary"
   ]
  },
  {
   "cell_type": "code",
   "execution_count": 18,
   "id": "e5cd4a60",
   "metadata": {},
   "outputs": [
    {
     "data": {
      "text/plain": [
       "77.21739130434783"
      ]
     },
     "execution_count": 18,
     "metadata": {},
     "output_type": "execute_result"
    }
   ],
   "source": [
    "#overall accuracy of classification\n",
    "lr_summary.accuracy*100"
   ]
  },
  {
   "cell_type": "code",
   "execution_count": 19,
   "id": "f7033f28",
   "metadata": {},
   "outputs": [
    {
     "name": "stdout",
     "output_type": "stream",
     "text": [
      "areaUnderROC: 83.04883958860624\n"
     ]
    }
   ],
   "source": [
    "#areaUnderROC\n",
    "print('areaUnderROC:',lr_summary.areaUnderROC*100)"
   ]
  },
  {
   "cell_type": "code",
   "execution_count": 20,
   "id": "529a3e24",
   "metadata": {},
   "outputs": [
    {
     "name": "stdout",
     "output_type": "stream",
     "text": [
      "precision: [0.7952380952380952, 0.7096774193548387]\n"
     ]
    }
   ],
   "source": [
    "#precison of both classes\n",
    "print('precision:',lr_summary.precisionByLabel)"
   ]
  },
  {
   "cell_type": "code",
   "execution_count": 21,
   "id": "f41806cd",
   "metadata": {},
   "outputs": [
    {
     "name": "stdout",
     "output_type": "stream",
     "text": [
      "recall: [0.8812664907651715, 0.5612244897959183]\n"
     ]
    }
   ],
   "source": [
    "#recall of both classes\n",
    "print('recall:',lr_summary.recallByLabel)"
   ]
  },
  {
   "cell_type": "code",
   "execution_count": 22,
   "id": "32ed4a16",
   "metadata": {},
   "outputs": [
    {
     "name": "stdout",
     "output_type": "stream",
     "text": [
      "accuracy: 80.31088082901555\n"
     ]
    }
   ],
   "source": [
    "from pyspark.ml.evaluation import MulticlassClassificationEvaluator\n",
    "evaluater = MulticlassClassificationEvaluator(labelCol = 'Outcome',predictionCol = 'prediction',metricName = 'accuracy')\n",
    "accuracy_F = evaluater.evaluate(pred_test)\n",
    "print('accuracy:',accuracy_F*100)"
   ]
  },
  {
   "cell_type": "code",
   "execution_count": null,
   "id": "e0e0680e",
   "metadata": {},
   "outputs": [],
   "source": []
  }
 ],
 "metadata": {
  "kernelspec": {
   "display_name": "Python 3 (ipykernel)",
   "language": "python",
   "name": "python3"
  },
  "language_info": {
   "codemirror_mode": {
    "name": "ipython",
    "version": 3
   },
   "file_extension": ".py",
   "mimetype": "text/x-python",
   "name": "python",
   "nbconvert_exporter": "python",
   "pygments_lexer": "ipython3",
   "version": "3.9.13"
  }
 },
 "nbformat": 4,
 "nbformat_minor": 5
}
